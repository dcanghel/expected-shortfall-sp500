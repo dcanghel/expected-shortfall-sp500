{
 "cells": [
  {
   "cell_type": "markdown",
   "id": "3992440f",
   "metadata": {},
   "source": [
    "# Expected Shortfall (CVaR) and VaR for S&P 500 using Tiingo API"
   ]
  },
  {
   "cell_type": "code",
   "execution_count": null,
   "id": "f0e0701b",
   "metadata": {},
   "outputs": [],
   "source": [
    "!pip install pandas matplotlib requests"
   ]
  },
  {
   "cell_type": "code",
   "execution_count": null,
   "id": "1e2ec6d2",
   "metadata": {},
   "outputs": [],
   "source": [
    "import pandas as pd\n",
    "import numpy as np\n",
    "import matplotlib.pyplot as plt\n",
    "import requests"
   ]
  },
  {
   "cell_type": "code",
   "execution_count": null,
   "id": "4a7fb67f",
   "metadata": {},
   "outputs": [],
   "source": [
    "# Replace with your Tiingo API key\n",
    "api_key = 'YOUR_TIINGO_API_KEY'\n",
    "ticker = 'SPY'\n",
    "start_date = '2021-01-01'\n",
    "end_date = '2025-06-16'\n",
    "\n",
    "url = f'https://api.tiingo.com/tiingo/daily/{ticker}/prices?'\n",
    "url += f'startDate={start_date}&endDate={end_date}&format=csv&token={api_key}'\n",
    "df = pd.read_csv(url, parse_dates=['date'])\n",
    "df = df.rename(columns={'date': 'Date', 'adjClose': 'Adj Close'}).set_index('Date')\n",
    "df = df.sort_index()\n",
    "returns = df['Adj Close'].pct_change().dropna()"
   ]
  },
  {
   "cell_type": "code",
   "execution_count": null,
   "id": "abeab66b",
   "metadata": {},
   "outputs": [],
   "source": [
    "confidence_level = 0.95\n",
    "var_95 = np.percentile(returns, (1 - confidence_level) * 100)\n",
    "cvar_95 = returns[returns < var_95].mean()\n",
    "\n",
    "print(f'1-Day VaR at 95% confidence: {var_95:.2%}')\n",
    "print(f'1-Day CVaR at 95% confidence: {cvar_95:.2%}')"
   ]
  },
  {
   "cell_type": "code",
   "execution_count": null,
   "id": "9c818a70",
   "metadata": {},
   "outputs": [],
   "source": [
    "plt.figure(figsize=(10, 6))\n",
    "plt.hist(returns, bins=100, color='lightblue', edgecolor='black')\n",
    "plt.axvline(var_95, color='red', linestyle='dashed', linewidth=2, label=f'VaR 95% = {var_95:.2%}')\n",
    "plt.axvline(cvar_95, color='green', linestyle='dashed', linewidth=2, label=f'CVaR 95% = {cvar_95:.2%}')\n",
    "plt.title('S&P 500 Daily Returns (2021–2025) with VaR and CVaR at 95%')\n",
    "plt.xlabel('Daily Return')\n",
    "plt.ylabel('Frequency')\n",
    "plt.legend()\n",
    "plt.grid(True)\n",
    "plt.show()"
   ]
  }
 ],
 "metadata": {},
 "nbformat": 4,
 "nbformat_minor": 5
}
